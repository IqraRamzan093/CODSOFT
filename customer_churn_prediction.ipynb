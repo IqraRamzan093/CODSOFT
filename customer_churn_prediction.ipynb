{
 "cells": [
  {
   "cell_type": "code",
   "execution_count": 1,
   "id": "6e6e2d2e",
   "metadata": {},
   "outputs": [
    {
     "name": "stdout",
     "output_type": "stream",
     "text": [
      "Accuracy: 0.8655\n"
     ]
    }
   ],
   "source": [
    "import pandas as pd\n",
    "from sklearn.model_selection import train_test_split\n",
    "from sklearn.preprocessing import LabelEncoder\n",
    "from sklearn.ensemble import GradientBoostingClassifier\n",
    "from sklearn.metrics import accuracy_score\n",
    "# Load data from CSV file\n",
    "data = pd.read_csv('Churn_Modelling.csv')\n",
    "# Pre-process data by encoding categorical features\n",
    "le = LabelEncoder()\n",
    "data['Geography'] = le.fit_transform(data['Geography'])\n",
    "data['Gender'] = le.fit_transform(data['Gender'])\n",
    "# Split data into training and testing sets\n",
    "X = data.drop(['RowNumber','CustomerId','Surname','Exited'], axis=1)\n",
    "y = data['Exited']\n",
    "X_train, X_test, y_train, y_test = train_test_split(X, y, test_size=0.2, random_state=42)\n",
    "# Train Gradient Boosting classifier\n",
    "gb = GradientBoostingClassifier(n_estimators=1000)\n",
    "gb.fit(X_train, y_train)\n",
    "# Make predictions on testing data\n",
    "y_pred = gb.predict(X_test)\n",
    "# Evaluate model performance\n",
    "accuracy = accuracy_score(y_test, y_pred)\n",
    "print(f'Accuracy: {accuracy}')"
   ]
  }
 ],
 "metadata": {
  "kernelspec": {
   "display_name": "Python 3 (ipykernel)",
   "language": "python",
   "name": "python3"
  },
  "language_info": {
   "codemirror_mode": {
    "name": "ipython",
    "version": 3
   },
   "file_extension": ".py",
   "mimetype": "text/x-python",
   "name": "python",
   "nbconvert_exporter": "python",
   "pygments_lexer": "ipython3",
   "version": "3.10.9"
  }
 },
 "nbformat": 4,
 "nbformat_minor": 5
}
